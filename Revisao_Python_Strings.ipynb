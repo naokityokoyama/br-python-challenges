{
  "nbformat": 4,
  "nbformat_minor": 0,
  "metadata": {
    "colab": {
      "name": "Revisao Python Strings.ipynb",
      "provenance": [],
      "authorship_tag": "ABX9TyN8Bxtuhg3s456x8yzzrdUC",
      "include_colab_link": true
    },
    "kernelspec": {
      "name": "python3",
      "display_name": "Python 3"
    }
  },
  "cells": [
    {
      "cell_type": "markdown",
      "metadata": {
        "id": "view-in-github",
        "colab_type": "text"
      },
      "source": [
        "<a href=\"https://colab.research.google.com/github/naokityokoyama/br-python-challenges/blob/master/Revisao_Python_Strings.ipynb\" target=\"_parent\"><img src=\"https://colab.research.google.com/assets/colab-badge.svg\" alt=\"Open In Colab\"/></a>"
      ]
    },
    {
      "cell_type": "markdown",
      "metadata": {
        "id": "jxTwjiMdVs54",
        "colab_type": "text"
      },
      "source": [
        "# Desafio 1\n",
        "Escreva um programa em Python para contabilizar a quantidade de ocorrências de cada palavra."
      ]
    },
    {
      "cell_type": "code",
      "metadata": {
        "id": "TMvh-RnDZ4Cu",
        "colab_type": "code",
        "colab": {}
      },
      "source": [
        "palavras = [\n",
        "   'red', 'green', 'black', 'pink', 'black', 'white', 'black', 'eyes',\n",
        "   'white', 'black', 'orange', 'pink', 'pink', 'red', 'red', 'white', 'orange',\n",
        "   'white', \"black\", 'pink', 'green', 'green', 'pink', 'green', 'pink',\n",
        "   'white', 'orange', \"orange\", 'red'\n",
        "]"
      ],
      "execution_count": null,
      "outputs": []
    },
    {
      "cell_type": "code",
      "metadata": {
        "id": "mycFtqayZ5mp",
        "colab_type": "code",
        "colab": {
          "base_uri": "https://localhost:8080/",
          "height": 34
        },
        "outputId": "f25ed19d-9444-4e70-99c3-ac133a8629e0"
      },
      "source": [
        "from collections import Counter\n",
        "texto = palavras\n",
        "counter = Counter(texto)\n",
        "\n",
        "print(counter)"
      ],
      "execution_count": null,
      "outputs": [
        {
          "output_type": "stream",
          "text": [
            "Counter({'pink': 6, 'black': 5, 'white': 5, 'red': 4, 'green': 4, 'orange': 4, 'eyes': 1})\n"
          ],
          "name": "stdout"
        }
      ]
    },
    {
      "cell_type": "markdown",
      "metadata": {
        "id": "Y4rju8oeV2ng",
        "colab_type": "text"
      },
      "source": [
        "# Desafio 2\n",
        "Escreva uma função que recebe um número inteiro de horas e a converte em segundos.\n",
        "\n",
        "Exemplo:\n",
        "\n",
        "convert(5) ➞ 18000\n",
        "\n",
        "convert(3) ➞ 10800\n",
        "\n",
        "convert(2) ➞ 7200"
      ]
    },
    {
      "cell_type": "code",
      "metadata": {
        "id": "jkt24AyJV9Oj",
        "colab_type": "code",
        "colab": {}
      },
      "source": [
        "def convert(n):\n",
        "  converte = n*60*60\n",
        "  return converte\n",
        "\n",
        "convert(5)\n",
        "convert(3)\n",
        "convert(2)\n"
      ],
      "execution_count": null,
      "outputs": []
    },
    {
      "cell_type": "markdown",
      "metadata": {
        "id": "8MXS9707XRxj",
        "colab_type": "text"
      },
      "source": [
        "# Desafio 3\n",
        "Escreva uma função que receba uma lista e retorne uma nova lista ordenada e sem valores duplicados."
      ]
    },
    {
      "cell_type": "code",
      "metadata": {
        "id": "OEvS61a2XXU2",
        "colab_type": "code",
        "colab": {
          "base_uri": "https://localhost:8080/",
          "height": 34
        },
        "outputId": "6ea433eb-e43d-4435-99e6-b619afa898b4"
      },
      "source": [
        "def ordem(lista):\n",
        "  b= sorted(set(lista))\n",
        "  return b\n",
        "\n",
        "lista = [1,2,3,4,3,30,3,4,5,6,9,3,2,1,2,4,5,15,6,6,3,13,4,45,5]\n",
        "ordem(lista)"
      ],
      "execution_count": null,
      "outputs": [
        {
          "output_type": "execute_result",
          "data": {
            "text/plain": [
              "[1, 2, 3, 4, 5, 6, 9, 13, 15, 30, 45]"
            ]
          },
          "metadata": {
            "tags": []
          },
          "execution_count": 263
        }
      ]
    },
    {
      "cell_type": "code",
      "metadata": {
        "id": "t79kbkZla8T0",
        "colab_type": "code",
        "colab": {}
      },
      "source": [
        "#invertendo as palavras\n",
        "texto = 'Hello World'\n",
        "print(texto[::-1])"
      ],
      "execution_count": null,
      "outputs": []
    },
    {
      "cell_type": "markdown",
      "metadata": {
        "id": "ec4Acc3_ZZNh",
        "colab_type": "text"
      },
      "source": [
        "# Desafio 4\n",
        "Escreva uma função que receba uma string como parâmetro e retorne outra string com as palavras em ordem inversa.\n",
        "\n",
        "Exemplo:\n",
        "\n",
        "inverte_texto(\"Python é legal\") ➞ \"legal é Python\""
      ]
    },
    {
      "cell_type": "code",
      "metadata": {
        "id": "Jy2qQfi3cag0",
        "colab_type": "code",
        "colab": {
          "base_uri": "https://localhost:8080/",
          "height": 34
        },
        "outputId": "c9375c5f-5ea0-4722-ac4b-d48f20c301d2"
      },
      "source": [
        "a = 'python é legal'\n",
        "b= a.split()\n",
        "b.reverse()\n",
        "\n",
        "print (b)\n"
      ],
      "execution_count": null,
      "outputs": [
        {
          "output_type": "stream",
          "text": [
            "['legal', 'é', 'python']\n"
          ],
          "name": "stdout"
        }
      ]
    },
    {
      "cell_type": "code",
      "metadata": {
        "id": "utKP8qCFflN2",
        "colab_type": "code",
        "colab": {}
      },
      "source": [
        "#frase[9::3] começa do nome e pula de 3 em 3\n",
        "#frase.capitalize() # coloca tudo em minusculo e apenas a 1 fica maiuscula \n",
        "#frase.title() coloca cada palavra a primeira em maiuscula\n",
        "#.strip() remove espaços no inicio e no fim o rstrip() remove apenas o direito lstrip() esquerda \n",
        "#split() divisão entre os espaços \n",
        "#join() inverte o split '-'.join(texto)\n"
      ],
      "execution_count": null,
      "outputs": []
    },
    {
      "cell_type": "markdown",
      "metadata": {
        "id": "jxkpoZPUZpyv",
        "colab_type": "text"
      },
      "source": [
        "# Desafio 5\n",
        "Você trabalha em uma loja de sapatos e deve contatar uma lista de clientes dada pela seguinte lista de números de telefones:\n",
        "No entanto, alguns destes números estão duplicados. Você seria capaz de remover estes duplicados para evitar que clientes sejam contatado mais de uma vez?"
      ]
    },
    {
      "cell_type": "code",
      "metadata": {
        "id": "thuqsKJ9kZo6",
        "colab_type": "code",
        "colab": {
          "base_uri": "https://localhost:8080/",
          "height": 272
        },
        "outputId": "47602b1c-f088-47ab-8351-7e72e253b999"
      },
      "source": [
        "#remover duplicado\n",
        "numeros_telefone = [\n",
        "'(765) 368-1506',\n",
        "'(285) 608-2448',\n",
        "'(255) 826-9050',\n",
        "'(554) 994-1517',\n",
        "'(285) 608-2448',\n",
        "'(596) 336-5508',\n",
        "'(511) 821-7870',\n",
        "'(410) 665-4447',\n",
        "'(821) 642-8987',\n",
        "'(285) 608-2448',\n",
        "'(311) 799-3883',\n",
        "'(935) 875-2054',\n",
        "'(464) 788-2397',\n",
        "'(765) 368-1506',\n",
        "'(650) 684-1437',\n",
        "'(812) 816-0881',\n",
        "'(285) 608-2448',\n",
        "'(885) 407-1719',\n",
        "'(943) 769-1061',\n",
        "'(596) 336-5508',\n",
        "'(765) 368-1506',\n",
        "'(255) 826-9050',\n",
        "]\n",
        "\n",
        "sorted(set(numeros_telefone)) #funcao set retira o duplicado"
      ],
      "execution_count": null,
      "outputs": [
        {
          "output_type": "execute_result",
          "data": {
            "text/plain": [
              "['(255) 826-9050',\n",
              " '(285) 608-2448',\n",
              " '(311) 799-3883',\n",
              " '(410) 665-4447',\n",
              " '(464) 788-2397',\n",
              " '(511) 821-7870',\n",
              " '(554) 994-1517',\n",
              " '(596) 336-5508',\n",
              " '(650) 684-1437',\n",
              " '(765) 368-1506',\n",
              " '(812) 816-0881',\n",
              " '(821) 642-8987',\n",
              " '(885) 407-1719',\n",
              " '(935) 875-2054',\n",
              " '(943) 769-1061']"
            ]
          },
          "metadata": {
            "tags": []
          },
          "execution_count": 52
        }
      ]
    },
    {
      "cell_type": "markdown",
      "metadata": {
        "id": "eICc1bMHZ4aL",
        "colab_type": "text"
      },
      "source": [
        "# Desafio 6\n",
        "Crie uma função que receba duas listas e retorne uma lista que contenha apenas os elementos comuns entre as listas (sem repetição). A função deve suportar lista de tamanhos diferentes.\n",
        "\n",
        "listas:\n",
        "\n",
        "a = [1, 1, 2, 3, 5, 8, 13, 21, 34, 55, 89]\n",
        "\n",
        "b = [1, 2, 3, 4, 5, 6, 7, 8, 9, 10, 11, 12, 13]"
      ]
    },
    {
      "cell_type": "code",
      "metadata": {
        "id": "IB4LzqI-ktV8",
        "colab_type": "code",
        "colab": {
          "base_uri": "https://localhost:8080/",
          "height": 34
        },
        "outputId": "18309024-0d31-4e8a-90da-e20cb4b8804b"
      },
      "source": [
        "#criando 3 lista atraves de 2 sem repetir numeros\n",
        "a = [1, 1, 2, 3, 5, 8, 13, 21, 34, 55, 89]\n",
        "\n",
        "b = [1, 2, 3, 4, 5, 6, 7, 8, 9, 10, 11, 12, 13]\n",
        "\n",
        "c = a+b\n",
        "#print (c)\n",
        "sorted(set(c))\n"
      ],
      "execution_count": null,
      "outputs": [
        {
          "output_type": "execute_result",
          "data": {
            "text/plain": [
              "[1, 2, 3, 4, 5, 6, 7, 8, 9, 10, 11, 12, 13, 21, 34, 55, 89]"
            ]
          },
          "metadata": {
            "tags": []
          },
          "execution_count": 86
        }
      ]
    },
    {
      "cell_type": "code",
      "metadata": {
        "id": "FmU4zxJxqscc",
        "colab_type": "code",
        "colab": {
          "base_uri": "https://localhost:8080/",
          "height": 34
        },
        "outputId": "74bbcab9-f7cd-4c8c-9995-72326035f453"
      },
      "source": [
        "# criando uma terceira lista atraves de somar 2 listas\n",
        "A = [1, 1, 2, 3, 5, 8, 13, 21, 34, 55, 89]\n",
        "B = [1, 2, 3, 4, 5, 6, 7, 8, 9, 10, 11, 12, 13]\n",
        "\n",
        "\n",
        "D = [ (a + b) for a, b in zip(A, B) ] #lembro que o 13 do B não foi somado pois não tinha com que somar\n",
        "\n",
        "print(D)"
      ],
      "execution_count": null,
      "outputs": [
        {
          "output_type": "stream",
          "text": [
            "[2, 3, 5, 7, 10, 14, 20, 29, 43, 65, 100]\n"
          ],
          "name": "stdout"
        }
      ]
    },
    {
      "cell_type": "code",
      "metadata": {
        "id": "xwdkVsUrrvn_",
        "colab_type": "code",
        "colab": {
          "base_uri": "https://localhost:8080/",
          "height": 34
        },
        "outputId": "7123050f-3524-4bb6-b1d4-516276db87a7"
      },
      "source": [
        "#criando uma 3 lista Os elementos que tem em B diferente de A\n",
        "a = [1, 1, 2, 3, 5, 8, 13, 21, 34, 55, 89]\n",
        "\n",
        "b = [1, 2, 3, 4, 5, 6, 7, 8, 9, 10, 11, 12, 13]\n",
        "\n",
        "c = set(b) - set(a)\n",
        "\n",
        "print (list(c))"
      ],
      "execution_count": null,
      "outputs": [
        {
          "output_type": "stream",
          "text": [
            "[4, 6, 7, 9, 10, 11, 12]\n"
          ],
          "name": "stdout"
        }
      ]
    },
    {
      "cell_type": "code",
      "metadata": {
        "id": "7UN-BulMu6tx",
        "colab_type": "code",
        "colab": {}
      },
      "source": [
        "#somar a lista\n",
        "a = [1, 1, 2, 3, 5, 8, 13, 21, 34, 55, 89]\n",
        "sum(a)"
      ],
      "execution_count": null,
      "outputs": []
    },
    {
      "cell_type": "markdown",
      "metadata": {
        "id": "UqZp0nZgaBts",
        "colab_type": "text"
      },
      "source": [
        "# Desafio 7\n",
        "Um professor de universidade tem uma turma com os seguintes números de telefones:\n",
        "\n",
        "Ele criou um grupo do whatapp no entanto somente os seguintes números entraram:\n",
        "\n",
        "Você seria capaz de criar uma lista dos alunos que ainda não entraram no grupo para que sejam contatados individualmente?"
      ]
    },
    {
      "cell_type": "code",
      "metadata": {
        "id": "rpnekDuIakU5",
        "colab_type": "code",
        "colab": {}
      },
      "source": [
        "\n",
        "telefones_alunos = ['(873) 810-8267', '(633) 244-7325', '(300) 303-5462', \n",
        "                    '(938) 300-8890', '(429) 264-7427', '(737) 805-2326', \n",
        "                    '(768) 956-8497', '(941) 225-3869', '(203) 606-9463', \n",
        "                    '(294) 430-7720', '(896) 781-5087', '(397) 845-8267', \n",
        "                    '(788) 717-6858', '(419) 734-4188', '(682) 595-3278', \n",
        "                    '(835) 955-1498', '(296) 415-9944', '(897) 932-2512', \n",
        "                    '(263) 415-3893', '(822) 640-8496', '(640) 427-2597', \n",
        "                    '(856) 338-7094', '(807) 554-4076', '(641) 367-5279', \n",
        "                    '(828) 866-0696', '(727) 376-5749', '(921) 948-2244', \n",
        "                    '(964) 710-9625', '(596) 685-1242', '(403) 343-7705', \n",
        "                    '(227) 389-3685', '(264) 372-7298', '(797) 649-3653', \n",
        "                    '(374) 361-3844', '(618) 490-4228', '(987) 803-5550', \n",
        "                    '(228) 976-9699', '(757) 450-9985', '(491) 666-5367',\n",
        "                    ]\n",
        "entraram_no_grupo = ['(596) 685-1242', '(727) 376-5749', '(987) 803-5550', \n",
        "                     '(633) 244-7325', '(828) 866-0696', '(263) 415-3893', \n",
        "                     '(203) 606-9463', '(296) 415-9944', '(419) 734-4188', \n",
        "                     '(618) 490-4228', '(682) 595-3278', '(938) 300-8890', \n",
        "                     '(264) 372-7298', '(768) 956-8497', '(737) 805-2326', \n",
        "                     '(788) 717-6858', '(228) 976-9699', '(896) 781-5087',\n",
        "                     '(374) 361-3844', '(921) 948-2244', '(807) 554-4076', \n",
        "                     '(822) 640-8496', '(227) 389-3685', '(429) 264-7427', \n",
        "                     '(397) 845-8267'] \n",
        "\n",
        "c= set(telefones_alunos) - set(entraram_no_grupo)\n",
        "\n",
        "print (list(c))                                      "
      ],
      "execution_count": null,
      "outputs": []
    },
    {
      "cell_type": "markdown",
      "metadata": {
        "id": "x4ymdjJtbTdd",
        "colab_type": "text"
      },
      "source": [
        "# Desafio 8\n",
        "Escreva um script Python para encontrar as 10 palavras mais longas em um arquivo.\n",
        "\n",
        "O arquivo TXT está localizado na mesma pasta do projeto (texto.txt)."
      ]
    },
    {
      "cell_type": "code",
      "metadata": {
        "id": "boK6ZYcdbV0p",
        "colab_type": "code",
        "colab": {
          "base_uri": "https://localhost:8080/",
          "height": 54
        },
        "outputId": "34e018e2-6927-486f-83fd-b22984ae40eb"
      },
      "source": [
        "#abrindo arquivo \n",
        "with open('texto.txt','r') as f:\n",
        "    texto = f.read()\n",
        "\n",
        "#separando caracteres e retirando caracteres    \n",
        "caracteres = ('?()+.,')   \n",
        "for simbolos in caracteres:\n",
        "  texto = texto.replace(simbolos,'')\n",
        "\n",
        "#colocando o texto em uma lista, retirando a duplicatas e colocando em tudo minusculo\n",
        "a = list(texto.split()) #passando split para separar elementos e criando lista\n",
        "b = sorted(set(a)) # retirando duplicatas\n",
        "c = [i.lower() for i in b] # list comprehension para .lower()\n",
        "\n",
        "#ordenando por len para saber as maiores\n",
        "ordenar = sorted(c,key=len, reverse=True)\n",
        "\n",
        "#pegando as 10 maiores\n",
        "maiores_10 = ordenar[0:11]\n",
        "print (maiores_10)"
      ],
      "execution_count": null,
      "outputs": [
        {
          "output_type": "stream",
          "text": [
            "['general-purpose', 'object-oriented', 'comprehensive', 'intermediate', 'interpreted', 'languageits', 'programmers', 'programming', 'readability', 'emphasizes', 'functional']\n"
          ],
          "name": "stdout"
        }
      ]
    },
    {
      "cell_type": "markdown",
      "metadata": {
        "id": "IWes8F88VYzB",
        "colab_type": "text"
      },
      "source": [
        "# Desafio 9\n",
        "Escreva uma função que retorne a soma dos múltiplos de 3 e 5 entre 0 e um número limite (parâmetro). Por exemplo, se o limite for 20, ele retornará a soma de 3, 5, 6, 9, 10, 12, 15, 18, 20."
      ]
    },
    {
      "cell_type": "code",
      "metadata": {
        "id": "Dn4AhKkL-ccd",
        "colab_type": "code",
        "colab": {
          "base_uri": "https://localhost:8080/",
          "height": 51
        },
        "outputId": "02c61ba5-54d9-4c4c-983b-c4b40e85e74b"
      },
      "source": [
        "lista =[]\n",
        "lista2=[]\n",
        "x = 10\n",
        "for i in range(x):\n",
        "  a=i*3\n",
        "  if a <20:\n",
        "    lista.append(a)\n",
        "print (lista)\n",
        "for i in range(x):\n",
        "  b=i*5\n",
        "  if b<20:\n",
        "    lista2.append(b)  \n",
        "print (lista2)"
      ],
      "execution_count": null,
      "outputs": [
        {
          "output_type": "stream",
          "text": [
            "[0, 3, 6, 9, 12, 15, 18]\n",
            "[0, 5, 10, 15]\n"
          ],
          "name": "stdout"
        }
      ]
    },
    {
      "cell_type": "markdown",
      "metadata": {
        "id": "NXVcnt9tC89Y",
        "colab_type": "text"
      },
      "source": [
        "# Desafio 10\n",
        "Dada uma lista, divida-a em 3 partes iguais e reverta cada lista.\n",
        "\n",
        "Exemplo:\n",
        "\n",
        "sampleList = [11, 45, 8, 23, 14, 12, 78, 45, 89]\n",
        "\n",
        "Parte 1 [8, 45, 11]\n",
        "\n",
        "Parte 2 [12, 14, 23]\n",
        "\n",
        "Parte 3 [89, 45, 78]"
      ]
    },
    {
      "cell_type": "code",
      "metadata": {
        "id": "Bk77SC3lC97d",
        "colab_type": "code",
        "colab": {
          "base_uri": "https://localhost:8080/",
          "height": 34
        },
        "outputId": "b0e8fccc-60e3-4b80-dfa8-14ff8eee0d69"
      },
      "source": [
        "lista = [11, 45, 8, 23, 14, 12, 78, 45, 89]\n",
        "\n",
        "partes = [lista[i:i+3] for i in range(0, len(lista), 3)]\n",
        "\n",
        "#print (partes)\n",
        "#ordenar = sorted(partes,key=, reverse=True)\n",
        "parte1=sorted(partes[0],reverse=True)\n",
        "parte2=sorted(partes[1],reverse=True)\n",
        "parte3=sorted(partes[2],reverse=True)\n",
        "print (parte1,parte2,parte3)"
      ],
      "execution_count": null,
      "outputs": [
        {
          "output_type": "stream",
          "text": [
            "[45, 11, 8] [23, 14, 12] [89, 78, 45]\n"
          ],
          "name": "stdout"
        }
      ]
    },
    {
      "cell_type": "markdown",
      "metadata": {
        "id": "c-H_xKhDRAbw",
        "colab_type": "text"
      },
      "source": [
        "# Desafio 11\n",
        "Dados uma sequência com n números inteiros, determinar quantos números da sequência são pares e quantos são ímpares. Por exemplo, para a sequência\n",
        "\n",
        "6   2   7  -5   8  -4\n",
        "\n",
        "a sua função deve retornar o número 4 para o número de pares e 2 para o de ímpares. A saída deve ser um tupla contendo primeiramente o número de pares e em seguida o número de ímpares. Para o exemplo anterior, a saída seria (4, 2)."
      ]
    },
    {
      "cell_type": "code",
      "metadata": {
        "id": "GnJbpS1dRBoI",
        "colab_type": "code",
        "colab": {
          "base_uri": "https://localhost:8080/",
          "height": 51
        },
        "outputId": "ff6cfc63-2656-4a8b-be32-2367a15b9d50"
      },
      "source": [
        "lista = [6, 2, 7, -5, 8, -4]\n",
        "lista_par = []\n",
        "lista_impar = []\n",
        "for i in lista:\n",
        "  if i % 2 == 0:\n",
        "    lista_par.append(i)\n",
        "  else:\n",
        "    lista_impar.append(i)  \n",
        "\n",
        "print (len(lista_par))  \n",
        "print (len(lista_impar))  "
      ],
      "execution_count": null,
      "outputs": [
        {
          "output_type": "stream",
          "text": [
            "4\n",
            "2\n"
          ],
          "name": "stdout"
        }
      ]
    },
    {
      "cell_type": "markdown",
      "metadata": {
        "id": "i-2_UGOKR97Y",
        "colab_type": "text"
      },
      "source": [
        "# Desafio 12\n",
        "Escreva uma função em Python para verificar a validade de uma senha.\n",
        "\n",
        "Validação:\n",
        "\n",
        "Pelo menos 1 letra entre [a-z] e 1 letra entre [A-Z].\n",
        "Pelo menos 1 número entre [0-9].\n",
        "Pelo menos 1 caractere de [$ # @].\n",
        "Comprimento mínimo de 6 caracteres.\n",
        "Comprimento máximo de 16 caracteres.\n",
        "Entradas: \"12345678\", \"J3sus0\", \"#Te5t300\", \"J*90j12374\", \"Michheeul\", \"Monk3y6\"\n",
        "\n",
        "A saída deve ser a senha e um texto indicando se a senha é válida ou inválida:\n",
        "\n",
        "\"1234\" - Senha inválida\n",
        "\"Qw#1234\" - Senha válida"
      ]
    },
    {
      "cell_type": "code",
      "metadata": {
        "id": "VFc6B9X0TI2f",
        "colab_type": "code",
        "colab": {
          "base_uri": "https://localhost:8080/",
          "height": 85
        },
        "outputId": "636f920e-27ff-4a98-c4cb-b7c444523433"
      },
      "source": [
        "import re\n",
        "def test_password(password):\n",
        " \n",
        "  min_number = 1\n",
        "  min_upper_char = 1\n",
        "  min_lower_char = 1\n",
        "  min_special_char = 1\n",
        "  min_len = 6\n",
        "  max_len = 16\n",
        " \n",
        "  if len(password) < min_len:\n",
        "    print('Tamanho minimo de:', min_len)\n",
        "  if len(password) >max_len:\n",
        "    print('Tamanho máximo de:', max_len)\n",
        "  if len(re.findall(r'[A-Z]', password)) < min_upper_char:\n",
        "    print('Precisa conter maiúsculas!', min_upper_char)\n",
        "  if len(re.findall(r'[a-z]', password)) < min_lower_char:\n",
        "    print('Precisa conter minúsculas!', min_lower_char)\n",
        "  if len(re.findall(r'[0–9]', password)) < min_number:\n",
        "    print('Precisa conter números!', min_number)\n",
        "  if len(re.findall(r'[@#$]', password)) < min_special_char:\n",
        "    print('Precisa conter caracteres especiais “@#$”',       min_special_char)\n",
        "  else:\n",
        "    print('senha validada')\n",
        " \n",
        "#test_password('12345678')\n",
        "#test_password('J3sus0')\n",
        "#test_password('#Te5t300')\n",
        "#test_password('J*90j12374')\n",
        "#test_password('Michheeul')\n",
        "#test_password('Monk3y6')\n",
        "\n"
      ],
      "execution_count": null,
      "outputs": [
        {
          "output_type": "stream",
          "text": [
            "Tamanho minimo de: 6\n",
            "Precisa conter maiúsculas! 1\n",
            "Precisa conter números! 1\n",
            "Precisa conter caracteres especiais “@#$” 1\n"
          ],
          "name": "stdout"
        }
      ]
    }
  ]
}